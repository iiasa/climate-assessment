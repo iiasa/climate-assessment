{
 "cells": [
  {
   "cell_type": "markdown",
   "id": "529d03cc",
   "metadata": {},
   "source": [
    "# Example run: custom scenario\n",
    "\n",
    "Here we demonstrate how to run with a custom scenario. In order to run this notebook, you will need to add in the code required to run your climate model of choice. See the other example notebooks for how to do this."
   ]
  },
  {
   "cell_type": "markdown",
   "id": "98357272",
   "metadata": {},
   "source": [
    "## Setup logging\n",
    "\n",
    "Pyam does its own logging stuff, so we have to configure logging before that import."
   ]
  },
  {
   "cell_type": "code",
   "execution_count": null,
   "id": "59eecbfd",
   "metadata": {},
   "outputs": [],
   "source": [
    "import logging\n",
    "\n",
    "# Increase the level to reduce the number of log messages\n",
    "LOGGING_LEVEL = logging.INFO\n",
    "\n",
    "LOGGER = logging.getLogger(\"pipeline\")\n",
    "LOGGER.setLevel(LOGGING_LEVEL)\n",
    "# have to set root logger too to get messages to come through\n",
    "logging.getLogger().setLevel(LOGGING_LEVEL)\n",
    "\n",
    "logFormatter = logging.Formatter(\n",
    "    \"%(asctime)s %(name)s %(threadName)s - %(levelname)s:  %(message)s\",\n",
    "    datefmt=\"%Y-%m-%d %H:%M:%S\",\n",
    ")\n",
    "stdoutHandler = logging.StreamHandler()\n",
    "stdoutHandler.setFormatter(logFormatter)\n",
    "\n",
    "logging.getLogger().addHandler(stdoutHandler)"
   ]
  },
  {
   "cell_type": "markdown",
   "id": "c61735ad",
   "metadata": {},
   "source": [
    "## Other imports"
   ]
  },
  {
   "cell_type": "code",
   "execution_count": null,
   "id": "acaff9ea",
   "metadata": {},
   "outputs": [],
   "source": [
    "import os.path\n",
    "import tempfile\n",
    "\n",
    "import matplotlib.pyplot as plt\n",
    "import numpy as np\n",
    "import pandas as pd\n",
    "import pandas.testing as pdt\n",
    "import pooch\n",
    "import pyam\n",
    "\n",
    "from climate_assessment.cli import run_workflow"
   ]
  },
  {
   "cell_type": "markdown",
   "id": "a596e20e",
   "metadata": {},
   "source": [
    "## Configuration of input data"
   ]
  },
  {
   "cell_type": "markdown",
   "id": "a22bdbac",
   "metadata": {},
   "source": [
    "### Choice of climate model\n",
    "\n",
    "See the individual run example notebooks for information about how to get setup with each model."
   ]
  },
  {
   "cell_type": "markdown",
   "id": "20ebd766",
   "metadata": {},
   "source": [
    "#### CICERO-SCM"
   ]
  },
  {
   "cell_type": "code",
   "execution_count": null,
   "id": "92ae35f4",
   "metadata": {},
   "outputs": [],
   "source": [
    "climate_model_kwargs = dict(\n",
    "    model=\"ciceroscm\",\n",
    "    model_version=\"v2019vCH4\",\n",
    "    probabilistic_file=os.path.join(\n",
    "        \"..\",\n",
    "        \"data\",\n",
    "        \"cicero\",\n",
    "        \"subset_cscm_configfile.json\",\n",
    "    ),\n",
    "    #     num_cfgs=600,\n",
    "    num_cfgs=1,\n",
    "    test_run=False,\n",
    ")"
   ]
  },
  {
   "cell_type": "markdown",
   "id": "c54d98f0",
   "metadata": {},
   "source": [
    "#### MAGICC"
   ]
  },
  {
   "cell_type": "code",
   "execution_count": null,
   "id": "ccf9ba8f",
   "metadata": {},
   "outputs": [],
   "source": [
    "# Where is the binary?\n",
    "os.environ[\"MAGICC_EXECUTABLE_7\"] = os.path.join(\n",
    "    \"path\", \"to\", \"magicc-v7.5.3\", \"bin\", \"magicc\"\n",
    ")\n",
    "\n",
    "# How many MAGICC workers can run in parallel?\n",
    "os.environ[\"MAGICC_WORKER_NUMBER\"] = \"4\"\n",
    "\n",
    "# Where should the MAGICC workers be located on the filesystem (you need about\n",
    "# 500Mb space per worker at the moment, they're removed after use)\n",
    "os.environ[\"MAGICC_WORKER_ROOT_DIR\"] = tempfile.gettempdir()\n",
    "\n",
    "magicc_data_dir = os.path.join(\"..\", \"data\", \"magicc\")\n",
    "\n",
    "climate_model_kwargs = dict(\n",
    "    model=\"magicc\",\n",
    "    model_version=\"v7.5.3\",\n",
    "    probabilistic_file=os.path.join(\n",
    "        \"path\",\n",
    "        \"to\",\n",
    "        \"magicc-ar6-0fd0f62-f023edb-drawnset\",\n",
    "        \"0fd0f62-derived-metrics-id-f023edb-drawnset.json\",\n",
    "    ),\n",
    "    num_cfgs=600,\n",
    "    test_run=False,\n",
    ")"
   ]
  },
  {
   "cell_type": "markdown",
   "id": "5c68abab",
   "metadata": {},
   "source": [
    "#### FaIR"
   ]
  },
  {
   "cell_type": "code",
   "execution_count": null,
   "id": "9965f5cc",
   "metadata": {},
   "outputs": [],
   "source": [
    "fair_data_dir = os.path.join(\"..\", \"data\", \"fair\")\n",
    "\n",
    "climate_model_kwargs = dict(\n",
    "    model=\"fair\",\n",
    "    model_version=\"1.6.2\",\n",
    "    probabilistic_file=os.path.join(fair_data_dir, \"fair-1.6.2-wg3-params-slim.json\"),\n",
    "    fair_extra_config=os.path.join(fair_data_dir, \"fair-1.6.2-wg3-params-common.json\"),\n",
    "    num_cfgs=2237,\n",
    "    test_run=False,\n",
    ")"
   ]
  },
  {
   "cell_type": "markdown",
   "id": "e10c3910",
   "metadata": {},
   "source": [
    "### Other config"
   ]
  },
  {
   "cell_type": "code",
   "execution_count": null,
   "id": "3b0aa2ec",
   "metadata": {},
   "outputs": [],
   "source": [
    "# Where should the output be saved?\n",
    "outdir = os.path.join(\"..\", \"data\", \"output-custom-example-notebook\")\n",
    "\n",
    "# How many scenarios do you want to run in one go?\n",
    "scenario_batch_size = 20"
   ]
  },
  {
   "cell_type": "markdown",
   "id": "87165dab",
   "metadata": {},
   "source": [
    "### Create input emissions\n",
    "\n",
    "This could be taken from a pre-configured file. Here we create the file on the fly."
   ]
  },
  {
   "cell_type": "code",
   "execution_count": null,
   "id": "ed3cfaf3",
   "metadata": {},
   "outputs": [],
   "source": [
    "idx = pd.MultiIndex.from_arrays(\n",
    "    [\n",
    "        [\"stylised\"] * 4,\n",
    "        [\"example\"] * 4,\n",
    "        [\n",
    "            \"Emissions|CO2|Energy and Industrial Processes\",\n",
    "            \"Emissions|CO2|AFOLU\",\n",
    "            \"Emissions|CH4\",\n",
    "            \"Emissions|N2O\",\n",
    "        ],\n",
    "        [\"Mt CO2/yr\", \"Mt CO2/yr\", \"Mt CH4/yr\", \"kt N2O/yr\"],\n",
    "        [\"World\"] * 4,\n",
    "    ],\n",
    "    names=[\"model\", \"scenario\", \"variable\", \"unit\", \"region\"],\n",
    ")\n",
    "years = np.arange(2010, 2100 + 1, 5)\n",
    "\n",
    "\n",
    "def sigmoid(k, x, x0):\n",
    "    return 1 / (1 + np.exp(-k * (x - x0)))\n",
    "\n",
    "\n",
    "base = pd.DataFrame(\n",
    "    data=[\n",
    "        35000 * sigmoid(-1 / 8, years, 2050),\n",
    "        4500 * sigmoid(-1 / 8, years, 2050),\n",
    "        375 / 2 * (1 + sigmoid(-1 / 8, years, 2040)),\n",
    "        11500 * 2 * sigmoid(-1 / 300, years, 2015),\n",
    "    ],\n",
    "    columns=years,\n",
    "    index=idx,\n",
    ")\n",
    "shuffle = base.reset_index()\n",
    "shuffle[\"scenario\"] = \"example_shuffle\"\n",
    "shuffle = shuffle.set_index(base.index.names)\n",
    "shuffle.loc[\n",
    "    shuffle.index.get_level_values(\"variable\").isin(\n",
    "        [\"Emissions|CO2|Energy and Industrial Processes\"]\n",
    "    ),\n",
    "    :,\n",
    "] = 35000 * sigmoid(-1 / 5, years, 2040)\n",
    "\n",
    "inp = pyam.IamDataFrame(pd.concat([base, shuffle]))\n",
    "\n",
    "ax = inp.filter(variable=\"Emissions|CH4\").plot()\n",
    "ax.set_ylim(ymin=0)\n",
    "ax = inp.filter(variable=\"Emissions|N2O\").plot()\n",
    "ax.set_ylim(ymin=0)\n",
    "ax = inp.filter(variable=\"Emissions|CO2|Energy and Industrial Processes\").plot()\n",
    "ax.set_ylim(ymin=0)\n",
    "ax = inp.filter(variable=\"Emissions|CO2|AFOLU\").plot()\n",
    "ax.set_ylim(ymin=0)\n",
    "\n",
    "inp"
   ]
  },
  {
   "cell_type": "markdown",
   "id": "fe1f6aac",
   "metadata": {},
   "source": [
    "Write file to disk (yes, unfortunately our API currently expects a file on disk, PRs welcome)."
   ]
  },
  {
   "cell_type": "code",
   "execution_count": null,
   "id": "af15002f",
   "metadata": {},
   "outputs": [],
   "source": [
    "input_emissions_file = \"input-emissions.csv\"\n",
    "inp.to_csv(input_emissions_file)"
   ]
  },
  {
   "cell_type": "markdown",
   "id": "f92038e8",
   "metadata": {},
   "source": [
    "### Choose infiller database file\n",
    "\n",
    "We run using the infiller database that was used in CMIP6. As a result of the licensing of the scenario data, this file has to be downloaded by hand (see documentation under \"Installation\", section \"Infiller database\"). Make sure that the variable `infilling_database_file` points to where you saved this file."
   ]
  },
  {
   "cell_type": "code",
   "execution_count": null,
   "id": "6b27e25d",
   "metadata": {},
   "outputs": [],
   "source": [
    "infilling_database_file = os.path.join(\n",
    "    \"..\",\n",
    "    \"data\",\n",
    "    \"1652361598937-ar6_emissions_vetted_infillerdatabase_10.5281-zenodo.6390768.csv\",\n",
    ")"
   ]
  },
  {
   "cell_type": "markdown",
   "id": "f7e8686c",
   "metadata": {},
   "source": [
    "## Run the climate assessment workflow"
   ]
  },
  {
   "cell_type": "markdown",
   "id": "b1302596",
   "metadata": {},
   "source": [
    "*N.B. the log with information and some warnings will be quite long - but that is nothing to worry about!*"
   ]
  },
  {
   "cell_type": "code",
   "execution_count": null,
   "id": "74a44671",
   "metadata": {
    "scrolled": true
   },
   "outputs": [],
   "source": [
    "run_workflow(\n",
    "    input_emissions_file,\n",
    "    outdir,\n",
    "    infilling_database=infilling_database_file,\n",
    "    scenario_batch_size=scenario_batch_size,\n",
    "    **climate_model_kwargs,\n",
    ")"
   ]
  },
  {
   "cell_type": "markdown",
   "id": "35346bc7",
   "metadata": {},
   "source": [
    "### Load results\n",
    "\n",
    "*N.B The filename will likely have changed if you have run your own scenarios.*"
   ]
  },
  {
   "cell_type": "code",
   "execution_count": null,
   "id": "4e7e20bf",
   "metadata": {},
   "outputs": [],
   "source": [
    "output = pyam.IamDataFrame(os.path.join(outdir, \"input-emissions_alloutput.xlsx\"))\n",
    "output"
   ]
  },
  {
   "cell_type": "markdown",
   "id": "cca3f359",
   "metadata": {},
   "source": [
    "### Some basic exploration"
   ]
  },
  {
   "cell_type": "markdown",
   "id": "d617ae5e",
   "metadata": {},
   "source": [
    "Look at the scenario categories."
   ]
  },
  {
   "cell_type": "code",
   "execution_count": null,
   "id": "82238f8b",
   "metadata": {},
   "outputs": [],
   "source": [
    "output.meta[\"Category\"]"
   ]
  },
  {
   "cell_type": "code",
   "execution_count": null,
   "id": "997db63f",
   "metadata": {},
   "outputs": [],
   "source": [
    "# A hacky way to examine harmonisation\n",
    "v = \"Emissions|CO2|Energy and Industrial Processes\"\n",
    "v = \"Emissions|CO2|AFOLU\"\n",
    "# v = \"Emissions|CH4\"\n",
    "\n",
    "ax = output.filter(variable=f\"*Infilled|{v}\").plot(color=\"scenario\")\n",
    "inp.filter(variable=v).plot(color=\"scenario\", ax=ax)"
   ]
  },
  {
   "cell_type": "code",
   "execution_count": null,
   "id": "b76b6f1d",
   "metadata": {},
   "outputs": [],
   "source": [
    "ax = output.filter(variable=f\"*Infilled|Emissions|Sulfur\").plot(color=\"scenario\")\n",
    "ax.set_ylim(ymin=0)"
   ]
  },
  {
   "cell_type": "markdown",
   "id": "287f742c",
   "metadata": {},
   "source": [
    "Make a plot of median warming."
   ]
  },
  {
   "cell_type": "code",
   "execution_count": null,
   "id": "c381213b",
   "metadata": {},
   "outputs": [],
   "source": [
    "ax = output.filter(variable=\"*|Surface Temperature (GSAT)|*|50.0th Percentile\").plot(\n",
    "    color=\"scenario\"\n",
    ")\n",
    "plt.title(\"Global warming above the 1850-1900 mean\")\n",
    "ax.set_xlim([1995, 2100])"
   ]
  },
  {
   "cell_type": "markdown",
   "id": "3b9b79e7",
   "metadata": {},
   "source": [
    "## Conclusion\n",
    "That's it! You just ran a a full climate assessment workflow going from emissions to temperature (and more) using the functionality from the climate-assessment package, and then visualised the results. \n",
    "\n",
    "Naturally, similar workflows can be constructed using CICERO-SCM (on Linux) and MAGICC (on Windows and Linux)!\n",
    "\n",
    "It is also possible to run from the command line, and build more elaborate workflows. For that, please see the extended documentation."
   ]
  }
 ],
 "metadata": {
  "kernelspec": {
   "display_name": "Python 3 (ipykernel)",
   "language": "python",
   "name": "python3"
  },
  "language_info": {
   "codemirror_mode": {
    "name": "ipython",
    "version": 3
   },
   "file_extension": ".py",
   "mimetype": "text/x-python",
   "name": "python",
   "nbconvert_exporter": "python",
   "pygments_lexer": "ipython3",
   "version": "3.7.5"
  }
 },
 "nbformat": 4,
 "nbformat_minor": 5
}
