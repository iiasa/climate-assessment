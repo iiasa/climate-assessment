{
 "cells": [
  {
   "cell_type": "markdown",
   "id": "529d03cc",
   "metadata": {},
   "source": [
    "# Example run: CICERO-SCM\n",
    "\n",
    "Here we demonstrate how to run with CICERO-SCM. We run with the IPs from WG3 and demonstrate that the results in the database can be reproduced. However, other input data could be used for custom scenario runs.\n",
    "\n",
    "For more information, see the docs associated with the CICERO-SCM model."
   ]
  },
  {
   "cell_type": "markdown",
   "id": "98357272",
   "metadata": {},
   "source": [
    "## Setup logging\n",
    "\n",
    "Pyam does its own logging stuff, so we have to configure logging before that import."
   ]
  },
  {
   "cell_type": "code",
   "execution_count": null,
   "id": "59eecbfd",
   "metadata": {},
   "outputs": [],
   "source": [
    "import logging\n",
    "\n",
    "# Increase the level to reduce the number of log messages\n",
    "LOGGING_LEVEL = logging.INFO\n",
    "\n",
    "LOGGER = logging.getLogger(\"pipeline\")\n",
    "LOGGER.setLevel(LOGGING_LEVEL)\n",
    "# have to set root logger too to get messages to come through\n",
    "logging.getLogger().setLevel(LOGGING_LEVEL)\n",
    "\n",
    "logFormatter = logging.Formatter(\n",
    "    \"%(asctime)s %(name)s %(threadName)s - %(levelname)s:  %(message)s\",\n",
    "    datefmt=\"%Y-%m-%d %H:%M:%S\",\n",
    ")\n",
    "stdoutHandler = logging.StreamHandler()\n",
    "stdoutHandler.setFormatter(logFormatter)\n",
    "\n",
    "logging.getLogger().addHandler(stdoutHandler)"
   ]
  },
  {
   "cell_type": "markdown",
   "id": "c61735ad",
   "metadata": {},
   "source": [
    "## Other imports"
   ]
  },
  {
   "cell_type": "code",
   "execution_count": null,
   "id": "acaff9ea",
   "metadata": {},
   "outputs": [],
   "source": [
    "import os.path\n",
    "\n",
    "import matplotlib.pyplot as plt\n",
    "import pandas as pd\n",
    "import pandas.testing as pdt\n",
    "import pooch\n",
    "import pyam\n",
    "import tempfile\n",
    "\n",
    "from climate_assessment.cli import run_workflow"
   ]
  },
  {
   "cell_type": "markdown",
   "id": "a596e20e",
   "metadata": {},
   "source": [
    "## Configuration of input data"
   ]
  },
  {
   "cell_type": "markdown",
   "id": "a8bdd363",
   "metadata": {},
   "source": [
    "### Set model input paths\n",
    "\n",
    "Here we tell the pipeline where to look for CICERO-SCM and where to create parallel workers on disk."
   ]
  },
  {
   "cell_type": "code",
   "execution_count": null,
   "id": "74129df4",
   "metadata": {},
   "outputs": [],
   "source": [
    "# How many cores should be used when running CICERO-SCM in parallel?\n",
    "os.environ[\"CICEROSCM_WORKER_NUMBER\"] = \"4\"\n",
    "\n",
    "# Where should Cicero-SCM workers be located on the filesystem\n",
    "os.environ[\"CICEROSCM_WORKER_ROOT_DIR\"] = tempfile.gettempdir()"
   ]
  },
  {
   "cell_type": "markdown",
   "id": "a22bdbac",
   "metadata": {},
   "source": [
    "### Set general input arguments and options to the climate assessment workflow\n",
    "\n",
    "The values we've set below will let you run CICERO-SCM and reproduce the AR6 WG3 results."
   ]
  },
  {
   "cell_type": "code",
   "execution_count": null,
   "id": "1079bd63",
   "metadata": {},
   "outputs": [],
   "source": [
    "model = \"ciceroscm\"\n",
    "model_version = \"v2019vCH4\"\n",
    "probabilistic_file = os.path.join(\n",
    "    \"..\",\n",
    "    \"data\",\n",
    "    \"cicero\",\n",
    "    \"subset_cscm_configfile.json\",\n",
    ")\n",
    "\n",
    "# Use fewer (e.g. 10) if you just want to do a test run but note that this breaks\n",
    "# the stats of the probabilistic ensemble\n",
    "num_cfgs = 600\n",
    "# Set to True if you're not using the full CICERO-SCM ensemble\n",
    "test_run = False\n",
    "# How many scenarios do you want to run in one go?\n",
    "scenario_batch_size = 20\n",
    "\n",
    "# Where should the output be saved?\n",
    "outdir = os.path.join(\"..\", \"data\", \"output-ciceroscm-example-notebook\")"
   ]
  },
  {
   "cell_type": "markdown",
   "id": "cbbed3b6",
   "metadata": {},
   "source": [
    "### Choose input emissions pathway file\n",
    "\n",
    "By default, we use 2 of the AR6 IPs. You could use a different file (formatted the same way) if you wish."
   ]
  },
  {
   "cell_type": "code",
   "execution_count": null,
   "id": "41d0741c",
   "metadata": {},
   "outputs": [],
   "source": [
    "EMISSIONS_DATA_DIR = os.path.join(\"..\", \"tests\", \"test-data\")\n",
    "EMISSIONS_INPUT_FILE = \"ar6_IPs_emissions.csv\"\n",
    "\n",
    "input_emissions_file = os.path.join(EMISSIONS_DATA_DIR, EMISSIONS_INPUT_FILE)"
   ]
  },
  {
   "cell_type": "markdown",
   "id": "f92038e8",
   "metadata": {},
   "source": [
    "### Choose infiller database file\n",
    "\n",
    "We run using the infiller database that was used in CMIP6. As a result of the licensing of the scenario data, this file has to be downloaded by hand (see documentation under \"Installation\", section \"Infiller database\"). Make sure that the variable `infilling_database_file` points to where you saved this file."
   ]
  },
  {
   "cell_type": "code",
   "execution_count": null,
   "id": "6b27e25d",
   "metadata": {},
   "outputs": [],
   "source": [
    "infilling_database_file = os.path.join(\n",
    "    \"..\",\n",
    "    \"data\",\n",
    "    \"1652361598937-ar6_emissions_vetted_infillerdatabase_10.5281-zenodo.6390768.csv\",\n",
    ")"
   ]
  },
  {
   "cell_type": "markdown",
   "id": "f7e8686c",
   "metadata": {},
   "source": [
    "## Run the climate assessment workflow"
   ]
  },
  {
   "cell_type": "markdown",
   "id": "b1302596",
   "metadata": {},
   "source": [
    "*N.B. the log with information and some warnings will be quite long - but that is nothing to worry about!*"
   ]
  },
  {
   "cell_type": "code",
   "execution_count": null,
   "id": "74a44671",
   "metadata": {
    "scrolled": true
   },
   "outputs": [],
   "source": [
    "run_workflow(\n",
    "    input_emissions_file,\n",
    "    outdir,\n",
    "    model=model,\n",
    "    model_version=model_version,\n",
    "    probabilistic_file=probabilistic_file,\n",
    "    num_cfgs=num_cfgs,\n",
    "    infilling_database=infilling_database_file,\n",
    "    scenario_batch_size=scenario_batch_size,\n",
    ")"
   ]
  },
  {
   "cell_type": "markdown",
   "id": "35346bc7",
   "metadata": {},
   "source": [
    "### Load results\n",
    "\n",
    "*N.B The filename will likely have changed if you have run your own scenarios.*"
   ]
  },
  {
   "cell_type": "code",
   "execution_count": null,
   "id": "4e7e20bf",
   "metadata": {},
   "outputs": [],
   "source": [
    "output = pyam.IamDataFrame(os.path.join(outdir, \"ar6_IPs_emissions_alloutput.xlsx\"))\n",
    "output"
   ]
  },
  {
   "cell_type": "markdown",
   "id": "ce7ed444",
   "metadata": {},
   "source": [
    "### Compare with database results\n",
    "\n",
    "These would normally need to be downloaded, but we include a set in the repository for testing. Here we check that we have reproduced the database results. Obviously, this should be skipped if you have run a custom scenario."
   ]
  },
  {
   "cell_type": "code",
   "execution_count": null,
   "id": "9f25a77c",
   "metadata": {},
   "outputs": [],
   "source": [
    "expected_output_file = os.path.join(\n",
    "    \"..\", \"tests\", \"test-data\", \"expected-output-wg3/two_ips_climate_cicero.xlsx\"\n",
    ")\n",
    "\n",
    "expected_db_output = pyam.IamDataFrame(expected_output_file).timeseries()\n",
    "\n",
    "# The database does not necessarily include all the outputs we have\n",
    "test_output = output.timeseries().loc[expected_db_output.index, :]\n",
    "\n",
    "# Check that we reproduce values\n",
    "pdt.assert_frame_equal(\n",
    "    test_output,\n",
    "    expected_db_output,\n",
    "    rtol=1e-3,\n",
    "    atol=1e-3,\n",
    ")"
   ]
  },
  {
   "cell_type": "markdown",
   "id": "cca3f359",
   "metadata": {},
   "source": [
    "### Some basic exploration"
   ]
  },
  {
   "cell_type": "markdown",
   "id": "d617ae5e",
   "metadata": {},
   "source": [
    "Look at the scenario categories."
   ]
  },
  {
   "cell_type": "code",
   "execution_count": null,
   "id": "82238f8b",
   "metadata": {},
   "outputs": [],
   "source": [
    "output.meta[\"Category\"]"
   ]
  },
  {
   "cell_type": "markdown",
   "id": "287f742c",
   "metadata": {},
   "source": [
    "Make a plot of median warming."
   ]
  },
  {
   "cell_type": "code",
   "execution_count": null,
   "id": "c381213b",
   "metadata": {},
   "outputs": [],
   "source": [
    "ax = output.filter(variable=\"*|Surface Temperature (GSAT)|*|50.0th Percentile\").plot(\n",
    "    color=\"scenario\"\n",
    ")\n",
    "plt.title(\"Global warming above the 1850-1900 mean\")\n",
    "ax.set_xlim([1995, 2100])"
   ]
  },
  {
   "cell_type": "markdown",
   "id": "3b9b79e7",
   "metadata": {},
   "source": [
    "## Conclusion\n",
    "\n",
    "That's it! You just ran a a full climate assessment workflow going from emissions to temperature (and more) using the functionality from the climate-assessment package, and then visualised the results. \n",
    "\n",
    "It is also possible to run from the command line, and build more elaborate workflows. For that, please see the extended documentation."
   ]
  }
 ],
 "metadata": {
  "kernelspec": {
   "display_name": "Python 3 (ipykernel)",
   "language": "python",
   "name": "python3"
  },
  "language_info": {
   "codemirror_mode": {
    "name": "ipython",
    "version": 3
   },
   "file_extension": ".py",
   "mimetype": "text/x-python",
   "name": "python",
   "nbconvert_exporter": "python",
   "pygments_lexer": "ipython3",
   "version": "3.7.5"
  }
 },
 "nbformat": 4,
 "nbformat_minor": 5
}
